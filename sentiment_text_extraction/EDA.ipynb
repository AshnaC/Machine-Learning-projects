{
 "cells": [
  {
   "cell_type": "code",
   "execution_count": 148,
   "metadata": {},
   "outputs": [],
   "source": [
    "import numpy as np\n",
    "import pandas as pd\n",
    "\n",
    "import seaborn as sns\n",
    "import matplotlib.pyplot as plt\n",
    "%matplotlib inline\n",
    "import spacy\n",
    "\n",
    "from sklearn.model_selection import train_test_split"
   ]
  },
  {
   "cell_type": "code",
   "execution_count": 149,
   "metadata": {},
   "outputs": [
    {
     "data": {
      "text/html": [
       "<div>\n",
       "<style scoped>\n",
       "    .dataframe tbody tr th:only-of-type {\n",
       "        vertical-align: middle;\n",
       "    }\n",
       "\n",
       "    .dataframe tbody tr th {\n",
       "        vertical-align: top;\n",
       "    }\n",
       "\n",
       "    .dataframe thead th {\n",
       "        text-align: right;\n",
       "    }\n",
       "</style>\n",
       "<table border=\"1\" class=\"dataframe\">\n",
       "  <thead>\n",
       "    <tr style=\"text-align: right;\">\n",
       "      <th></th>\n",
       "      <th>textID</th>\n",
       "      <th>text</th>\n",
       "      <th>selected_text</th>\n",
       "      <th>sentiment</th>\n",
       "    </tr>\n",
       "  </thead>\n",
       "  <tbody>\n",
       "    <tr>\n",
       "      <th>0</th>\n",
       "      <td>cb774db0d1</td>\n",
       "      <td>I`d have responded, if I were going</td>\n",
       "      <td>I`d have responded, if I were going</td>\n",
       "      <td>neutral</td>\n",
       "    </tr>\n",
       "    <tr>\n",
       "      <th>1</th>\n",
       "      <td>549e992a42</td>\n",
       "      <td>Sooo SAD I will miss you here in San Diego!!!</td>\n",
       "      <td>Sooo SAD</td>\n",
       "      <td>negative</td>\n",
       "    </tr>\n",
       "    <tr>\n",
       "      <th>2</th>\n",
       "      <td>088c60f138</td>\n",
       "      <td>my boss is bullying me...</td>\n",
       "      <td>bullying me</td>\n",
       "      <td>negative</td>\n",
       "    </tr>\n",
       "    <tr>\n",
       "      <th>3</th>\n",
       "      <td>9642c003ef</td>\n",
       "      <td>what interview! leave me alone</td>\n",
       "      <td>leave me alone</td>\n",
       "      <td>negative</td>\n",
       "    </tr>\n",
       "    <tr>\n",
       "      <th>4</th>\n",
       "      <td>358bd9e861</td>\n",
       "      <td>Sons of ****, why couldn`t they put them on t...</td>\n",
       "      <td>Sons of ****,</td>\n",
       "      <td>negative</td>\n",
       "    </tr>\n",
       "  </tbody>\n",
       "</table>\n",
       "</div>"
      ],
      "text/plain": [
       "       textID                                               text  \\\n",
       "0  cb774db0d1                I`d have responded, if I were going   \n",
       "1  549e992a42      Sooo SAD I will miss you here in San Diego!!!   \n",
       "2  088c60f138                          my boss is bullying me...   \n",
       "3  9642c003ef                     what interview! leave me alone   \n",
       "4  358bd9e861   Sons of ****, why couldn`t they put them on t...   \n",
       "\n",
       "                         selected_text sentiment  \n",
       "0  I`d have responded, if I were going   neutral  \n",
       "1                             Sooo SAD  negative  \n",
       "2                          bullying me  negative  \n",
       "3                       leave me alone  negative  \n",
       "4                        Sons of ****,  negative  "
      ]
     },
     "execution_count": 149,
     "metadata": {},
     "output_type": "execute_result"
    }
   ],
   "source": [
    "train = pd.read_csv('data/train.csv')\n",
    "train.dropna(inplace= True)\n",
    "train.head()"
   ]
  },
  {
   "cell_type": "code",
   "execution_count": 150,
   "metadata": {},
   "outputs": [
    {
     "data": {
      "text/html": [
       "<div>\n",
       "<style scoped>\n",
       "    .dataframe tbody tr th:only-of-type {\n",
       "        vertical-align: middle;\n",
       "    }\n",
       "\n",
       "    .dataframe tbody tr th {\n",
       "        vertical-align: top;\n",
       "    }\n",
       "\n",
       "    .dataframe thead th {\n",
       "        text-align: right;\n",
       "    }\n",
       "</style>\n",
       "<table border=\"1\" class=\"dataframe\">\n",
       "  <thead>\n",
       "    <tr style=\"text-align: right;\">\n",
       "      <th></th>\n",
       "      <th>textID</th>\n",
       "      <th>text</th>\n",
       "      <th>sentiment</th>\n",
       "    </tr>\n",
       "  </thead>\n",
       "  <tbody>\n",
       "    <tr>\n",
       "      <th>0</th>\n",
       "      <td>f87dea47db</td>\n",
       "      <td>Last session of the day  http://twitpic.com/67ezh</td>\n",
       "      <td>neutral</td>\n",
       "    </tr>\n",
       "    <tr>\n",
       "      <th>1</th>\n",
       "      <td>96d74cb729</td>\n",
       "      <td>Shanghai is also really exciting (precisely -...</td>\n",
       "      <td>positive</td>\n",
       "    </tr>\n",
       "    <tr>\n",
       "      <th>2</th>\n",
       "      <td>eee518ae67</td>\n",
       "      <td>Recession hit Veronique Branquinho, she has to...</td>\n",
       "      <td>negative</td>\n",
       "    </tr>\n",
       "    <tr>\n",
       "      <th>3</th>\n",
       "      <td>01082688c6</td>\n",
       "      <td>happy bday!</td>\n",
       "      <td>positive</td>\n",
       "    </tr>\n",
       "    <tr>\n",
       "      <th>4</th>\n",
       "      <td>33987a8ee5</td>\n",
       "      <td>http://twitpic.com/4w75p - I like it!!</td>\n",
       "      <td>positive</td>\n",
       "    </tr>\n",
       "  </tbody>\n",
       "</table>\n",
       "</div>"
      ],
      "text/plain": [
       "       textID                                               text sentiment\n",
       "0  f87dea47db  Last session of the day  http://twitpic.com/67ezh   neutral\n",
       "1  96d74cb729   Shanghai is also really exciting (precisely -...  positive\n",
       "2  eee518ae67  Recession hit Veronique Branquinho, she has to...  negative\n",
       "3  01082688c6                                        happy bday!  positive\n",
       "4  33987a8ee5             http://twitpic.com/4w75p - I like it!!  positive"
      ]
     },
     "execution_count": 150,
     "metadata": {},
     "output_type": "execute_result"
    }
   ],
   "source": [
    "test = pd.read_csv('data/test.csv')\n",
    "test.head()"
   ]
  },
  {
   "cell_type": "code",
   "execution_count": 151,
   "metadata": {},
   "outputs": [
    {
     "data": {
      "text/html": [
       "<div>\n",
       "<style scoped>\n",
       "    .dataframe tbody tr th:only-of-type {\n",
       "        vertical-align: middle;\n",
       "    }\n",
       "\n",
       "    .dataframe tbody tr th {\n",
       "        vertical-align: top;\n",
       "    }\n",
       "\n",
       "    .dataframe thead th {\n",
       "        text-align: right;\n",
       "    }\n",
       "</style>\n",
       "<table border=\"1\" class=\"dataframe\">\n",
       "  <thead>\n",
       "    <tr style=\"text-align: right;\">\n",
       "      <th></th>\n",
       "      <th>textID</th>\n",
       "      <th>text</th>\n",
       "      <th>selected_text</th>\n",
       "      <th>sentiment</th>\n",
       "    </tr>\n",
       "  </thead>\n",
       "  <tbody>\n",
       "    <tr>\n",
       "      <th>count</th>\n",
       "      <td>27480</td>\n",
       "      <td>27480</td>\n",
       "      <td>27480</td>\n",
       "      <td>27480</td>\n",
       "    </tr>\n",
       "    <tr>\n",
       "      <th>unique</th>\n",
       "      <td>27480</td>\n",
       "      <td>27480</td>\n",
       "      <td>22463</td>\n",
       "      <td>3</td>\n",
       "    </tr>\n",
       "    <tr>\n",
       "      <th>top</th>\n",
       "      <td>32f17aee22</td>\n",
       "      <td>Rain finally arriving, drat. Guess this means ...</td>\n",
       "      <td>good</td>\n",
       "      <td>neutral</td>\n",
       "    </tr>\n",
       "    <tr>\n",
       "      <th>freq</th>\n",
       "      <td>1</td>\n",
       "      <td>1</td>\n",
       "      <td>199</td>\n",
       "      <td>11117</td>\n",
       "    </tr>\n",
       "  </tbody>\n",
       "</table>\n",
       "</div>"
      ],
      "text/plain": [
       "            textID                                               text  \\\n",
       "count        27480                                              27480   \n",
       "unique       27480                                              27480   \n",
       "top     32f17aee22  Rain finally arriving, drat. Guess this means ...   \n",
       "freq             1                                                  1   \n",
       "\n",
       "       selected_text sentiment  \n",
       "count          27480     27480  \n",
       "unique         22463         3  \n",
       "top             good   neutral  \n",
       "freq             199     11117  "
      ]
     },
     "execution_count": 151,
     "metadata": {},
     "output_type": "execute_result"
    }
   ],
   "source": [
    "train.describe()"
   ]
  },
  {
   "cell_type": "code",
   "execution_count": 152,
   "metadata": {},
   "outputs": [
    {
     "data": {
      "text/plain": [
       "<matplotlib.axes._subplots.AxesSubplot at 0x13610ef98>"
      ]
     },
     "execution_count": 152,
     "metadata": {},
     "output_type": "execute_result"
    },
    {
     "data": {
      "image/png": "[encoded data removed]",
      "text/plain": [
       "<Figure size 432x288 with 1 Axes>"
      ]
     },
     "metadata": {
      "needs_background": "light"
     },
     "output_type": "display_data"
    }
   ],
   "source": [
    "sns.countplot(train['sentiment'])"
   ]
  },
  {
   "cell_type": "code",
   "execution_count": 153,
   "metadata": {},
   "outputs": [
    {
     "data": {
      "text/plain": [
       "<matplotlib.axes._subplots.AxesSubplot at 0x1363569e8>"
      ]
     },
     "execution_count": 153,
     "metadata": {},
     "output_type": "execute_result"
    },
    {
     "data": {
      "image/png": "[encoded data removed]",
      "text/plain": [
       "<Figure size 432x288 with 1 Axes>"
      ]
     },
     "metadata": {
      "needs_background": "light"
     },
     "output_type": "display_data"
    }
   ],
   "source": [
    "sns.countplot(test['sentiment'])"
   ]
  },
  {
   "cell_type": "code",
   "execution_count": 154,
   "metadata": {},
   "outputs": [
    {
     "data": {
      "text/html": [
       "<div>\n",
       "<style scoped>\n",
       "    .dataframe tbody tr th:only-of-type {\n",
       "        vertical-align: middle;\n",
       "    }\n",
       "\n",
       "    .dataframe tbody tr th {\n",
       "        vertical-align: top;\n",
       "    }\n",
       "\n",
       "    .dataframe thead th {\n",
       "        text-align: right;\n",
       "    }\n",
       "</style>\n",
       "<table border=\"1\" class=\"dataframe\">\n",
       "  <thead>\n",
       "    <tr style=\"text-align: right;\">\n",
       "      <th></th>\n",
       "      <th>textID</th>\n",
       "      <th>text</th>\n",
       "      <th>selected_text</th>\n",
       "    </tr>\n",
       "    <tr>\n",
       "      <th>sentiment</th>\n",
       "      <th></th>\n",
       "      <th></th>\n",
       "      <th></th>\n",
       "    </tr>\n",
       "  </thead>\n",
       "  <tbody>\n",
       "    <tr>\n",
       "      <th>negative</th>\n",
       "      <td>7781</td>\n",
       "      <td>7781</td>\n",
       "      <td>7781</td>\n",
       "    </tr>\n",
       "    <tr>\n",
       "      <th>neutral</th>\n",
       "      <td>11117</td>\n",
       "      <td>11117</td>\n",
       "      <td>11117</td>\n",
       "    </tr>\n",
       "    <tr>\n",
       "      <th>positive</th>\n",
       "      <td>8582</td>\n",
       "      <td>8582</td>\n",
       "      <td>8582</td>\n",
       "    </tr>\n",
       "  </tbody>\n",
       "</table>\n",
       "</div>"
      ],
      "text/plain": [
       "           textID   text  selected_text\n",
       "sentiment                              \n",
       "negative     7781   7781           7781\n",
       "neutral     11117  11117          11117\n",
       "positive     8582   8582           8582"
      ]
     },
     "execution_count": 154,
     "metadata": {},
     "output_type": "execute_result"
    }
   ],
   "source": [
    "train.groupby('sentiment').count()"
   ]
  },
  {
   "cell_type": "code",
   "execution_count": null,
   "metadata": {},
   "outputs": [],
   "source": []
  },
  {
   "cell_type": "code",
   "execution_count": 194,
   "metadata": {},
   "outputs": [],
   "source": [
    "def jaccard(str1, str2): \n",
    "    a = set(str1.lower().split()) \n",
    "    b = set(str2.lower().split())\n",
    "    c = a.intersection(b)\n",
    "    return float(len(c)) / (len(a) + len(b) - len(c))"
   ]
  },
  {
   "cell_type": "code",
   "execution_count": 156,
   "metadata": {},
   "outputs": [],
   "source": [
    "def calcJaccard(df):\n",
    "    jcc_list=[]\n",
    "    for row in df.itertuples():\n",
    "        sub_text = row.selected_text\n",
    "        text = row.text\n",
    "        jcc = jaccard(text,sub_text)\n",
    "        jcc_list.append(jcc)\n",
    "    return sum(jcc_list)/len(jcc_list)"
   ]
  },
  {
   "cell_type": "code",
   "execution_count": 157,
   "metadata": {},
   "outputs": [
    {
     "data": {
      "text/plain": [
       "0.3143716500527577"
      ]
     },
     "execution_count": 157,
     "metadata": {},
     "output_type": "execute_result"
    }
   ],
   "source": [
    "calcJaccard(pos_df)"
   ]
  },
  {
   "cell_type": "code",
   "execution_count": 158,
   "metadata": {},
   "outputs": [
    {
     "data": {
      "text/plain": [
       "0.33861280727421755"
      ]
     },
     "execution_count": 158,
     "metadata": {},
     "output_type": "execute_result"
    }
   ],
   "source": [
    "calcJaccard(neg_df)"
   ]
  },
  {
   "cell_type": "code",
   "execution_count": 159,
   "metadata": {},
   "outputs": [
    {
     "data": {
      "text/plain": [
       "0.9764446695277987"
      ]
     },
     "execution_count": 159,
     "metadata": {},
     "output_type": "execute_result"
    }
   ],
   "source": [
    "calcJaccard(neutral_df)"
   ]
  },
  {
   "cell_type": "code",
   "execution_count": 160,
   "metadata": {},
   "outputs": [
    {
     "data": {
      "text/plain": [
       "0.9764446695277987"
      ]
     },
     "execution_count": 160,
     "metadata": {},
     "output_type": "execute_result"
    }
   ],
   "source": [
    "calcJaccard(neutral_df)"
   ]
  },
  {
   "cell_type": "code",
   "execution_count": 161,
   "metadata": {},
   "outputs": [],
   "source": [
    "train['text_len']= train['text'].apply(lambda x: len(x.split(' ')))\n",
    "train['select_len']= train['selected_text'].apply(lambda x: len(x.split(' ')))"
   ]
  },
  {
   "cell_type": "code",
   "execution_count": 162,
   "metadata": {},
   "outputs": [],
   "source": [
    "pos_df =train[train['sentiment'] == 'positive']\n",
    "neg_df =train[train['sentiment'] == 'negative']\n",
    "neutral_df =train[train['sentiment'] == 'neutral']"
   ]
  },
  {
   "cell_type": "code",
   "execution_count": 163,
   "metadata": {},
   "outputs": [
    {
     "data": {
      "text/html": [
       "<div>\n",
       "<style scoped>\n",
       "    .dataframe tbody tr th:only-of-type {\n",
       "        vertical-align: middle;\n",
       "    }\n",
       "\n",
       "    .dataframe tbody tr th {\n",
       "        vertical-align: top;\n",
       "    }\n",
       "\n",
       "    .dataframe thead th {\n",
       "        text-align: right;\n",
       "    }\n",
       "</style>\n",
       "<table border=\"1\" class=\"dataframe\">\n",
       "  <thead>\n",
       "    <tr style=\"text-align: right;\">\n",
       "      <th></th>\n",
       "      <th>textID</th>\n",
       "      <th>text</th>\n",
       "      <th>selected_text</th>\n",
       "      <th>sentiment</th>\n",
       "      <th>text_len</th>\n",
       "      <th>select_len</th>\n",
       "    </tr>\n",
       "  </thead>\n",
       "  <tbody>\n",
       "    <tr>\n",
       "      <th>68</th>\n",
       "      <td>fa2654e730</td>\n",
       "      <td>Chilliin</td>\n",
       "      <td>Chilliin</td>\n",
       "      <td>positive</td>\n",
       "      <td>1</td>\n",
       "      <td>1</td>\n",
       "    </tr>\n",
       "    <tr>\n",
       "      <th>430</th>\n",
       "      <td>a78ef3e0d0</td>\n",
       "      <td>Goodmorning</td>\n",
       "      <td>Goodmorning</td>\n",
       "      <td>positive</td>\n",
       "      <td>1</td>\n",
       "      <td>1</td>\n",
       "    </tr>\n",
       "    <tr>\n",
       "      <th>1319</th>\n",
       "      <td>bc84f21e3b</td>\n",
       "      <td>ShoesShoesShoes.YayYayYay.lol.IWouldPostATwitP...</td>\n",
       "      <td>ShoesShoesShoes.YayYayYay.lol.I</td>\n",
       "      <td>positive</td>\n",
       "      <td>1</td>\n",
       "      <td>1</td>\n",
       "    </tr>\n",
       "    <tr>\n",
       "      <th>3882</th>\n",
       "      <td>63aedbe9fe</td>\n",
       "      <td>Goooooodmorning</td>\n",
       "      <td>Goooooodmorning</td>\n",
       "      <td>positive</td>\n",
       "      <td>1</td>\n",
       "      <td>1</td>\n",
       "    </tr>\n",
       "    <tr>\n",
       "      <th>6520</th>\n",
       "      <td>9fdfd84b24</td>\n",
       "      <td>Relaxing</td>\n",
       "      <td>Relaxing</td>\n",
       "      <td>positive</td>\n",
       "      <td>1</td>\n",
       "      <td>1</td>\n",
       "    </tr>\n",
       "  </tbody>\n",
       "</table>\n",
       "</div>"
      ],
      "text/plain": [
       "          textID                                               text  \\\n",
       "68    fa2654e730                                           Chilliin   \n",
       "430   a78ef3e0d0                                        Goodmorning   \n",
       "1319  bc84f21e3b  ShoesShoesShoes.YayYayYay.lol.IWouldPostATwitP...   \n",
       "3882  63aedbe9fe                                    Goooooodmorning   \n",
       "6520  9fdfd84b24                                           Relaxing   \n",
       "\n",
       "                        selected_text sentiment  text_len  select_len  \n",
       "68                           Chilliin  positive         1           1  \n",
       "430                       Goodmorning  positive         1           1  \n",
       "1319  ShoesShoesShoes.YayYayYay.lol.I  positive         1           1  \n",
       "3882                  Goooooodmorning  positive         1           1  \n",
       "6520                         Relaxing  positive         1           1  "
      ]
     },
     "execution_count": 163,
     "metadata": {},
     "output_type": "execute_result"
    }
   ],
   "source": [
    "pos_df.sort_values(by=['text_len','text_len'],ascending=True).head()"
   ]
  },
  {
   "cell_type": "code",
   "execution_count": 195,
   "metadata": {},
   "outputs": [
    {
     "name": "stdout",
     "output_type": "stream",
     "text": [
      "86\n"
     ]
    },
    {
     "data": {
      "text/plain": [
       "0.8546511627906976"
      ]
     },
     "execution_count": 195,
     "metadata": {},
     "output_type": "execute_result"
    }
   ],
   "source": [
    "tmp_df = pos_df[pos_df['text_len']< 3]\n",
    "print(len(tmp_df))\n",
    "calcJaccard(tmp_df)"
   ]
  },
  {
   "cell_type": "code",
   "execution_count": 196,
   "metadata": {},
   "outputs": [
    {
     "name": "stdout",
     "output_type": "stream",
     "text": [
      "11\n"
     ]
    },
    {
     "data": {
      "text/plain": [
       "0.7272727272727273"
      ]
     },
     "execution_count": 196,
     "metadata": {},
     "output_type": "execute_result"
    }
   ],
   "source": [
    "tmp_df = pos_df[pos_df['text_len'] < 2]\n",
    "print(len(tmp_df))\n",
    "calcJaccard(tmp_df)"
   ]
  },
  {
   "cell_type": "code",
   "execution_count": 197,
   "metadata": {},
   "outputs": [
    {
     "name": "stdout",
     "output_type": "stream",
     "text": [
      "250\n"
     ]
    },
    {
     "data": {
      "text/plain": [
       "0.711"
      ]
     },
     "execution_count": 197,
     "metadata": {},
     "output_type": "execute_result"
    }
   ],
   "source": [
    "tmp_df = neg_df[neg_df['text_len'] < 4]\n",
    "print(len(tmp_df))\n",
    "calcJaccard(tmp_df)"
   ]
  },
  {
   "cell_type": "code",
   "execution_count": 198,
   "metadata": {},
   "outputs": [
    {
     "name": "stdout",
     "output_type": "stream",
     "text": [
      "63\n"
     ]
    },
    {
     "data": {
      "text/plain": [
       "0.8068783068783068"
      ]
     },
     "execution_count": 198,
     "metadata": {},
     "output_type": "execute_result"
    }
   ],
   "source": [
    "tmp_df = neg_df[neg_df['text_len'] < 3]\n",
    "print(len(tmp_df))\n",
    "calcJaccard(tmp_df)"
   ]
  },
  {
   "cell_type": "code",
   "execution_count": 199,
   "metadata": {},
   "outputs": [
    {
     "name": "stdout",
     "output_type": "stream",
     "text": [
      "63\n"
     ]
    },
    {
     "data": {
      "text/plain": [
       "0.8068783068783068"
      ]
     },
     "execution_count": 199,
     "metadata": {},
     "output_type": "execute_result"
    }
   ],
   "source": [
    "tmp_df = neg_df[neg_df['text_len'] < 3]\n",
    "print(len(tmp_df))\n",
    "calcJaccard(tmp_df)"
   ]
  },
  {
   "cell_type": "code",
   "execution_count": 182,
   "metadata": {},
   "outputs": [
    {
     "name": "stdout",
     "output_type": "stream",
     "text": [
      "267\n"
     ]
    },
    {
     "data": {
      "text/plain": [
       "0.9831460674157303"
      ]
     },
     "execution_count": 182,
     "metadata": {},
     "output_type": "execute_result"
    }
   ],
   "source": [
    "tmp_df = neutral_df[neutral_df['text_len'] < 3]\n",
    "print(len(tmp_df))\n",
    "calcJaccard(tmp_df)"
   ]
  },
  {
   "cell_type": "code",
   "execution_count": 183,
   "metadata": {},
   "outputs": [],
   "source": [
    "def predictSelectedText(row, model):\n",
    "    text = row['text']\n",
    "    selected_text = row['selected_text']\n",
    "    doc = model(text)\n",
    "    prediction = text\n",
    "    for ent in doc.ents:\n",
    "        prediction = ent.text\n",
    "    jacc_score = jaccard(prediction, selected_text)\n",
    "    return (prediction, jacc_score)"
   ]
  },
  {
   "cell_type": "code",
   "execution_count": 184,
   "metadata": {},
   "outputs": [],
   "source": [
    "def predict_neg_pos(df, sentiment):\n",
    "    X = df[['selected_text','text']]\n",
    "    y = df['selected_text']\n",
    "    X_train, X_test, y_train, y_test = train_test_split(X, y, test_size=0.15, random_state=42)\n",
    "    if(sentiment == \"positive\"):\n",
    "        model = spacy.load('positive_model')\n",
    "    elif(sentiment == \"negative\"):\n",
    "        model = spacy.load('negative_model')\n",
    "    prediction_df =pd.DataFrame(columns=['text','selected_text','prediction', 'jcc'])\n",
    "    prediction_df['text'] = X_test['text']\n",
    "    prediction_df['selected_text'] = X_test['selected_text']\n",
    "    (prediction_df['prediction'], prediction_df['jcc'])=zip(*X_test.apply(predictSelectedText,model=model, axis=1)) \n",
    "    return prediction_df"
   ]
  },
  {
   "cell_type": "code",
   "execution_count": 185,
   "metadata": {},
   "outputs": [],
   "source": [
    "def predict_neutral(df):\n",
    "    X = df[['selected_text','text']]\n",
    "    y = df['selected_text']\n",
    "    X_train, X_test, y_train, y_test = train_test_split(X, y, test_size=0.15, random_state=42)\n",
    "    prediction_df =pd.DataFrame(columns=['selected_text','prediction', 'jcc'])\n",
    "    prediction_df['selected_text'] = X_test['selected_text']\n",
    "    prediction_df['prediction'] = X_test['text']\n",
    "    prediction_df['jcc'] = X_test.apply(lambda x : jaccard(x['text'], x['selected_text']), axis=1 )\n",
    "    return prediction_df"
   ]
  },
  {
   "cell_type": "code",
   "execution_count": 206,
   "metadata": {},
   "outputs": [],
   "source": [
    "pred_neutral_df=predict_neutral(neutral_df)"
   ]
  },
  {
   "cell_type": "code",
   "execution_count": 207,
   "metadata": {},
   "outputs": [],
   "source": [
    "pred_positive_df=predict_neg_pos(pos_df,\"positive\")"
   ]
  },
  {
   "cell_type": "code",
   "execution_count": 208,
   "metadata": {},
   "outputs": [],
   "source": [
    "pred_negative_df=predict_neg_pos(neg_df,\"negative\")"
   ]
  },
  {
   "cell_type": "code",
   "execution_count": 209,
   "metadata": {},
   "outputs": [
    {
     "data": {
      "text/plain": [
       "0.44965089525469376"
      ]
     },
     "execution_count": 209,
     "metadata": {},
     "output_type": "execute_result"
    }
   ],
   "source": [
    "sum(pred_positive_df['jcc'])/len(pred_positive_df)"
   ]
  },
  {
   "cell_type": "code",
   "execution_count": 210,
   "metadata": {},
   "outputs": [
    {
     "data": {
      "text/plain": [
       "0.4546168420229151"
      ]
     },
     "execution_count": 210,
     "metadata": {},
     "output_type": "execute_result"
    }
   ],
   "source": [
    "sum(pred_negative_df['jcc'])/len(pred_negative_df)"
   ]
  },
  {
   "cell_type": "code",
   "execution_count": 211,
   "metadata": {},
   "outputs": [],
   "source": [
    "prediction_df = pred_neutral_df.append([pred_positive_df, pred_negative_df])"
   ]
  },
  {
   "cell_type": "code",
   "execution_count": 212,
   "metadata": {},
   "outputs": [
    {
     "data": {
      "text/plain": [
       "0.6647618877841579"
      ]
     },
     "execution_count": 212,
     "metadata": {},
     "output_type": "execute_result"
    }
   ],
   "source": [
    "sum(prediction_df['jcc'])/len(prediction_df)"
   ]
  },
  {
   "cell_type": "code",
   "execution_count": 222,
   "metadata": {},
   "outputs": [],
   "source": [
    "pred_positive_df= pred_positive_df.sort_values(by='jcc', ascending= True)"
   ]
  },
  {
   "cell_type": "code",
   "execution_count": 226,
   "metadata": {},
   "outputs": [
    {
     "data": {
      "text/html": [
       "<div>\n",
       "<style scoped>\n",
       "    .dataframe tbody tr th:only-of-type {\n",
       "        vertical-align: middle;\n",
       "    }\n",
       "\n",
       "    .dataframe tbody tr th {\n",
       "        vertical-align: top;\n",
       "    }\n",
       "\n",
       "    .dataframe thead th {\n",
       "        text-align: right;\n",
       "    }\n",
       "</style>\n",
       "<table border=\"1\" class=\"dataframe\">\n",
       "  <thead>\n",
       "    <tr style=\"text-align: right;\">\n",
       "      <th></th>\n",
       "      <th>text</th>\n",
       "      <th>selected_text</th>\n",
       "      <th>prediction</th>\n",
       "      <th>jcc</th>\n",
       "    </tr>\n",
       "  </thead>\n",
       "  <tbody>\n",
       "    <tr>\n",
       "      <th>17893</th>\n",
       "      <td>since I`m reading the Twilight series and wat...</td>\n",
       "      <td>.perfect</td>\n",
       "      <td>perfect</td>\n",
       "      <td>0.000000</td>\n",
       "    </tr>\n",
       "    <tr>\n",
       "      <th>4623</th>\n",
       "      <td>yo u can`t love 1 twin and not the other lol</td>\n",
       "      <td>lol</td>\n",
       "      <td>love</td>\n",
       "      <td>0.000000</td>\n",
       "    </tr>\n",
       "    <tr>\n",
       "      <th>9389</th>\n",
       "      <td>saw Hannah Montana Movie today!! was the best!...</td>\n",
       "      <td>was AWESOMEEEEEE!!!!!!</td>\n",
       "      <td>best!</td>\n",
       "      <td>0.000000</td>\n",
       "    </tr>\n",
       "    <tr>\n",
       "      <th>20415</th>\n",
       "      <td>I usually do if there is choice, but I am luc...</td>\n",
       "      <td>most foods I love are generally very healthy</td>\n",
       "      <td>lucky</td>\n",
       "      <td>0.000000</td>\n",
       "    </tr>\n",
       "    <tr>\n",
       "      <th>7791</th>\n",
       "      <td>Poor kitties  If there`s nothing that can be ...</td>\n",
       "      <td>a good</td>\n",
       "      <td>hopefully</td>\n",
       "      <td>0.000000</td>\n",
       "    </tr>\n",
       "    <tr>\n",
       "      <th>17479</th>\n",
       "      <td>Jeff &amp; I are looking for long lasting love! Ju...</td>\n",
       "      <td>like</td>\n",
       "      <td>looking</td>\n",
       "      <td>0.000000</td>\n",
       "    </tr>\n",
       "    <tr>\n",
       "      <th>9660</th>\n",
       "      <td>The nocturnal serendipity... Kashmir is an imp...</td>\n",
       "      <td>serendipity..</td>\n",
       "      <td>The nocturnal serendipity... Kashmir is an imp...</td>\n",
       "      <td>0.000000</td>\n",
       "    </tr>\n",
       "    <tr>\n",
       "      <th>15699</th>\n",
       "      <td>: yay! it will be good to have you back</td>\n",
       "      <td>good</td>\n",
       "      <td>yay!</td>\n",
       "      <td>0.000000</td>\n",
       "    </tr>\n",
       "    <tr>\n",
       "      <th>19070</th>\n",
       "      <td>MORNING!!! Hope you all have a lovely holiday ...</td>\n",
       "      <td>lovely</td>\n",
       "      <td>Hope</td>\n",
       "      <td>0.000000</td>\n",
       "    </tr>\n",
       "    <tr>\n",
       "      <th>26771</th>\n",
       "      <td>awww  i mish u too ladie whats been good?</td>\n",
       "      <td>awww  i mish u too ladie whats been good?</td>\n",
       "      <td>good</td>\n",
       "      <td>0.000000</td>\n",
       "    </tr>\n",
       "    <tr>\n",
       "      <th>7159</th>\n",
       "      <td>_W wow-thanks soo much. Hope your well</td>\n",
       "      <td>wow-thanks soo much.</td>\n",
       "      <td>thanks</td>\n",
       "      <td>0.000000</td>\n",
       "    </tr>\n",
       "    <tr>\n",
       "      <th>1101</th>\n",
       "      <td>Is having awesome fruits and vegetable juice a...</td>\n",
       "      <td>awesome</td>\n",
       "      <td>vegetable juice</td>\n",
       "      <td>0.000000</td>\n",
       "    </tr>\n",
       "    <tr>\n",
       "      <th>10672</th>\n",
       "      <td>Jane Austen`s books!,    Pride and Prejudice...</td>\n",
       "      <td>,    Pride and Prejudice &amp; Emma are gr</td>\n",
       "      <td>great!</td>\n",
       "      <td>0.000000</td>\n",
       "    </tr>\n",
       "    <tr>\n",
       "      <th>21287</th>\n",
       "      <td>think I`m gonna start writing a proper blog, c...</td>\n",
       "      <td>I`m gonna start writing a proper blog,</td>\n",
       "      <td>good</td>\n",
       "      <td>0.000000</td>\n",
       "    </tr>\n",
       "    <tr>\n",
       "      <th>1674</th>\n",
       "      <td>whooop! you got me on twitter!!  dang our lin...</td>\n",
       "      <td>s growing</td>\n",
       "      <td>whooop! you got me on twitter!!  dang our lin...</td>\n",
       "      <td>0.000000</td>\n",
       "    </tr>\n",
       "    <tr>\n",
       "      <th>24079</th>\n",
       "      <td>Dear God please let me wake up before 11:45 AM...</td>\n",
       "      <td>lol Go</td>\n",
       "      <td>Dear God please let me wake up before 11:45 AM...</td>\n",
       "      <td>0.034483</td>\n",
       "    </tr>\n",
       "    <tr>\n",
       "      <th>20206</th>\n",
       "      <td>my favorite song is `Im standing here but you...</td>\n",
       "      <td>favorite</td>\n",
       "      <td>my favorite song is `Im standing here but you ...</td>\n",
       "      <td>0.040000</td>\n",
       "    </tr>\n",
       "    <tr>\n",
       "      <th>7795</th>\n",
       "      <td>_lottie Not one of my favourite pastimes  This...</td>\n",
       "      <td>favourite</td>\n",
       "      <td>_lottie Not one of my favourite pastimes  This...</td>\n",
       "      <td>0.040000</td>\n",
       "    </tr>\n",
       "    <tr>\n",
       "      <th>5561</th>\n",
       "      <td>I just put my TV on the Canucks game and they ...</td>\n",
       "      <td>yaay</td>\n",
       "      <td>I just put my TV on the Canucks game and they ...</td>\n",
       "      <td>0.041667</td>\n",
       "    </tr>\n",
       "    <tr>\n",
       "      <th>23266</th>\n",
       "      <td>Home from a day of pampering with mom &amp; dinner...</td>\n",
       "      <td>pampering wi</td>\n",
       "      <td>Home from a day of pampering with mom &amp; dinner...</td>\n",
       "      <td>0.041667</td>\n",
       "    </tr>\n",
       "    <tr>\n",
       "      <th>14996</th>\n",
       "      <td>Sounds like the very best sort of work then! ...</td>\n",
       "      <td>best</td>\n",
       "      <td>Sounds like the very best sort of work then! J...</td>\n",
       "      <td>0.043478</td>\n",
       "    </tr>\n",
       "    <tr>\n",
       "      <th>3753</th>\n",
       "      <td>all the best for your IB exams Carl. I hope y...</td>\n",
       "      <td>hope</td>\n",
       "      <td>all the best for your IB exams Carl. I hope yo...</td>\n",
       "      <td>0.045455</td>\n",
       "    </tr>\n",
       "    <tr>\n",
       "      <th>15607</th>\n",
       "      <td>Tomorrow is Mother`s Day! What did you get for...</td>\n",
       "      <td>Tomorrow is Mother`s Day! What did you get for...</td>\n",
       "      <td>gift,</td>\n",
       "      <td>0.045455</td>\n",
       "    </tr>\n",
       "    <tr>\n",
       "      <th>19588</th>\n",
       "      <td>- Yeah I know they are **** annoying with tha...</td>\n",
       "      <td>- Yeah I know they are **** annoying with that...</td>\n",
       "      <td>annoying</td>\n",
       "      <td>0.045455</td>\n",
       "    </tr>\n",
       "    <tr>\n",
       "      <th>18265</th>\n",
       "      <td>thanks for trying   I was hoping Bud Trillin,...</td>\n",
       "      <td>thanks for trying   I was hoping Bud Trillin, ...</td>\n",
       "      <td>thanks</td>\n",
       "      <td>0.045455</td>\n",
       "    </tr>\n",
       "    <tr>\n",
       "      <th>17790</th>\n",
       "      <td>But anywho, I just got in and out of the pool ...</td>\n",
       "      <td>storming</td>\n",
       "      <td>But anywho, I just got in and out of the pool ...</td>\n",
       "      <td>0.047619</td>\n",
       "    </tr>\n",
       "    <tr>\n",
       "      <th>13734</th>\n",
       "      <td>**** **** and blast!  I`m at LMHR tomorrow an...</td>\n",
       "      <td>blast!</td>\n",
       "      <td>**** **** and blast!  I`m at LMHR tomorrow an...</td>\n",
       "      <td>0.047619</td>\n",
       "    </tr>\n",
       "    <tr>\n",
       "      <th>12665</th>\n",
       "      <td>no I like be able to say it and it be the tru...</td>\n",
       "      <td>like</td>\n",
       "      <td>no I like be able to say it and it be the tru...</td>\n",
       "      <td>0.050000</td>\n",
       "    </tr>\n",
       "    <tr>\n",
       "      <th>16764</th>\n",
       "      <td>Oh yea, my pain went down a little bit from l...</td>\n",
       "      <td>Oh yea, my pain went down a little bit from la...</td>\n",
       "      <td>good</td>\n",
       "      <td>0.050000</td>\n",
       "    </tr>\n",
       "    <tr>\n",
       "      <th>12505</th>\n",
       "      <td>Played with FontStruct http://is.gd/ejE upload...</td>\n",
       "      <td>top</td>\n",
       "      <td>Played with FontStruct http://is.gd/ejE upload...</td>\n",
       "      <td>0.050000</td>\n",
       "    </tr>\n",
       "    <tr>\n",
       "      <th>...</th>\n",
       "      <td>...</td>\n",
       "      <td>...</td>\n",
       "      <td>...</td>\n",
       "      <td>...</td>\n",
       "    </tr>\n",
       "    <tr>\n",
       "      <th>7760</th>\n",
       "      <td>Congratulation`s to phil packer on completing ...</td>\n",
       "      <td>Congratulation`s</td>\n",
       "      <td>Congratulation`s to phil packer on completing ...</td>\n",
       "      <td>0.066667</td>\n",
       "    </tr>\n",
       "    <tr>\n",
       "      <th>6030</th>\n",
       "      <td>I am up and feeling pretty **** gud! I dont ev...</td>\n",
       "      <td>I am up and feeling pretty **** gud! I dont ev...</td>\n",
       "      <td>nice</td>\n",
       "      <td>0.066667</td>\n",
       "    </tr>\n",
       "    <tr>\n",
       "      <th>16241</th>\n",
       "      <td>_hall no  i was gutted when he wasn`t. lmao. i...</td>\n",
       "      <td>hall no  i was gutted when he wasn`t. lmao. i ...</td>\n",
       "      <td>obsessed</td>\n",
       "      <td>0.066667</td>\n",
       "    </tr>\n",
       "    <tr>\n",
       "      <th>19636</th>\n",
       "      <td>junk food and movies in a tshirt and sweats......</td>\n",
       "      <td>the only way tonight would be better is if I h...</td>\n",
       "      <td>better</td>\n",
       "      <td>0.066667</td>\n",
       "    </tr>\n",
       "    <tr>\n",
       "      <th>25390</th>\n",
       "      <td>fair enough. actually, you dont have to give ...</td>\n",
       "      <td>fair enough. actually, you dont have to give m...</td>\n",
       "      <td>fine</td>\n",
       "      <td>0.066667</td>\n",
       "    </tr>\n",
       "    <tr>\n",
       "      <th>16387</th>\n",
       "      <td>Hey Steve.   I think you are such an awesome ...</td>\n",
       "      <td>I think you are such an awesome actor. I love ...</td>\n",
       "      <td>awesome</td>\n",
       "      <td>0.066667</td>\n",
       "    </tr>\n",
       "    <tr>\n",
       "      <th>746</th>\n",
       "      <td>am chillaxin after a busy BankHoliday, Hope ev...</td>\n",
       "      <td>am chillaxin after a busy BankHoliday, Hope ev...</td>\n",
       "      <td>Hope</td>\n",
       "      <td>0.066667</td>\n",
       "    </tr>\n",
       "    <tr>\n",
       "      <th>10493</th>\n",
       "      <td>Dakota just had a her first bath since being s...</td>\n",
       "      <td>Heaven!</td>\n",
       "      <td>Dakota just had a her first bath since being s...</td>\n",
       "      <td>0.071429</td>\n",
       "    </tr>\n",
       "    <tr>\n",
       "      <th>6656</th>\n",
       "      <td>Hmmm, I just realized....I didn`t have any bda...</td>\n",
       "      <td>boo hoo!</td>\n",
       "      <td>Hmmm, I just realized....I didn`t have any bda...</td>\n",
       "      <td>0.071429</td>\n",
       "    </tr>\n",
       "    <tr>\n",
       "      <th>16444</th>\n",
       "      <td>Loves fatty take away nights... yummy  then co...</td>\n",
       "      <td>yummy</td>\n",
       "      <td>Loves fatty take away nights... yummy  then co...</td>\n",
       "      <td>0.071429</td>\n",
       "    </tr>\n",
       "    <tr>\n",
       "      <th>14055</th>\n",
       "      <td>happy birthday month!! I only get a day but y...</td>\n",
       "      <td>happy birthday month!! I only get a day but yo...</td>\n",
       "      <td>happy</td>\n",
       "      <td>0.071429</td>\n",
       "    </tr>\n",
       "    <tr>\n",
       "      <th>10278</th>\n",
       "      <td>HAppy Mother`s Day to my Mom...that lady is th...</td>\n",
       "      <td>coolest</td>\n",
       "      <td>HAppy Mother`s Day to my Mom...that lady is th...</td>\n",
       "      <td>0.071429</td>\n",
       "    </tr>\n",
       "    <tr>\n",
       "      <th>25599</th>\n",
       "      <td>Wow Justin Timberlake on SNL tonight was hilar...</td>\n",
       "      <td>Wow Justin Timberlake on SNL tonight was hilar...</td>\n",
       "      <td>Wow</td>\n",
       "      <td>0.076923</td>\n",
       "    </tr>\n",
       "    <tr>\n",
       "      <th>21224</th>\n",
       "      <td>i bought a Italian horseshoe charm. Dragon! it...</td>\n",
       "      <td>strong</td>\n",
       "      <td>i bought a Italian horseshoe charm. Dragon! it...</td>\n",
       "      <td>0.076923</td>\n",
       "    </tr>\n",
       "    <tr>\n",
       "      <th>21450</th>\n",
       "      <td>Aw! Tear! I feel special to da family.  Haha t...</td>\n",
       "      <td>Aw! Tear! I feel special to da family.  Haha t...</td>\n",
       "      <td>special</td>\n",
       "      <td>0.076923</td>\n",
       "    </tr>\n",
       "    <tr>\n",
       "      <th>27110</th>\n",
       "      <td>You`re cycling tho` that`s good. Healthy eati...</td>\n",
       "      <td>You`re cycling tho` that`s good. Healthy eatin...</td>\n",
       "      <td>good.</td>\n",
       "      <td>0.076923</td>\n",
       "    </tr>\n",
       "    <tr>\n",
       "      <th>12753</th>\n",
       "      <td>understandable. yah i leave on monday! I`ll b...</td>\n",
       "      <td>understandable.</td>\n",
       "      <td>understandable. yah i leave on monday! I`ll b...</td>\n",
       "      <td>0.076923</td>\n",
       "    </tr>\n",
       "    <tr>\n",
       "      <th>2659</th>\n",
       "      <td>Blue Oyster Cult - I Love The Night *that`s wh...</td>\n",
       "      <td>Love</td>\n",
       "      <td>I Love The Night *that`s when all my friends a...</td>\n",
       "      <td>0.076923</td>\n",
       "    </tr>\n",
       "    <tr>\n",
       "      <th>22377</th>\n",
       "      <td>I`d like to put your fruity article on my web...</td>\n",
       "      <td>like</td>\n",
       "      <td>I`d like to put your fruity article on my webs...</td>\n",
       "      <td>0.076923</td>\n",
       "    </tr>\n",
       "    <tr>\n",
       "      <th>17630</th>\n",
       "      <td>Hi Dougie I`m your fan from Thailand. I`m Fil...</td>\n",
       "      <td>`Luv</td>\n",
       "      <td>Hi Dougie I`m your fan from Thailand. I`m Fil...</td>\n",
       "      <td>0.076923</td>\n",
       "    </tr>\n",
       "    <tr>\n",
       "      <th>23467</th>\n",
       "      <td>Yes, we will! We should maybe do it in a DM t...</td>\n",
       "      <td>so we don`t annoy our followers. Thought of th...</td>\n",
       "      <td>Good</td>\n",
       "      <td>0.076923</td>\n",
       "    </tr>\n",
       "    <tr>\n",
       "      <th>182</th>\n",
       "      <td>I VOTED!!! do u have a personal myspace? i ke...</td>\n",
       "      <td>i &lt;3 you. u helped me thru the hrdest time of ...</td>\n",
       "      <td>hrdest</td>\n",
       "      <td>0.076923</td>\n",
       "    </tr>\n",
       "    <tr>\n",
       "      <th>20915</th>\n",
       "      <td>OMG Great Day Today Went To A Art Thingy  And ...</td>\n",
       "      <td>Great Day</td>\n",
       "      <td>OMG Great Day Today Went To A Art Thingy  And ...</td>\n",
       "      <td>0.080000</td>\n",
       "    </tr>\n",
       "    <tr>\n",
       "      <th>1091</th>\n",
       "      <td>Just wanted to say, positivity is doin me good...</td>\n",
       "      <td>positivity is doin me good! Change it up! Won`...</td>\n",
       "      <td>good!</td>\n",
       "      <td>0.083333</td>\n",
       "    </tr>\n",
       "    <tr>\n",
       "      <th>12821</th>\n",
       "      <td>You realize you just did  a solid. Better tha...</td>\n",
       "      <td>You realize you just did  a solid. Better than...</td>\n",
       "      <td>Better</td>\n",
       "      <td>0.083333</td>\n",
       "    </tr>\n",
       "    <tr>\n",
       "      <th>21412</th>\n",
       "      <td>i love Fly With Me, live chats and don`t like ...</td>\n",
       "      <td>love</td>\n",
       "      <td>i love Fly With Me, live chats and don`t like ...</td>\n",
       "      <td>0.083333</td>\n",
       "    </tr>\n",
       "    <tr>\n",
       "      <th>22346</th>\n",
       "      <td>Again.. check out http://www.myspace.com/there...</td>\n",
       "      <td>rock</td>\n",
       "      <td>Again.. check out http://www.myspace.com/there...</td>\n",
       "      <td>0.083333</td>\n",
       "    </tr>\n",
       "    <tr>\n",
       "      <th>15463</th>\n",
       "      <td>_club wished I could have been there last nigh...</td>\n",
       "      <td>rocking!</td>\n",
       "      <td>Sounds like it was rocking! Can`t wait to see ...</td>\n",
       "      <td>0.083333</td>\n",
       "    </tr>\n",
       "    <tr>\n",
       "      <th>17770</th>\n",
       "      <td>haha aww hun i bet you are more creative tha...</td>\n",
       "      <td>e creative</td>\n",
       "      <td>haha aww hun i bet you are more creative tha...</td>\n",
       "      <td>0.083333</td>\n",
       "    </tr>\n",
       "    <tr>\n",
       "      <th>2082</th>\n",
       "      <td>yaaaaaay i get to see you too   looking forwa...</td>\n",
       "      <td>yaaaaaay</td>\n",
       "      <td>yaaaaaay i get to see you too   looking forwar...</td>\n",
       "      <td>0.083333</td>\n",
       "    </tr>\n",
       "  </tbody>\n",
       "</table>\n",
       "<p>100 rows × 4 columns</p>\n",
       "</div>"
      ],
      "text/plain": [
       "                                                    text  \\\n",
       "17893   since I`m reading the Twilight series and wat...   \n",
       "4623        yo u can`t love 1 twin and not the other lol   \n",
       "9389   saw Hannah Montana Movie today!! was the best!...   \n",
       "20415   I usually do if there is choice, but I am luc...   \n",
       "7791    Poor kitties  If there`s nothing that can be ...   \n",
       "17479  Jeff & I are looking for long lasting love! Ju...   \n",
       "9660   The nocturnal serendipity... Kashmir is an imp...   \n",
       "15699            : yay! it will be good to have you back   \n",
       "19070  MORNING!!! Hope you all have a lovely holiday ...   \n",
       "26771          awww  i mish u too ladie whats been good?   \n",
       "7159              _W wow-thanks soo much. Hope your well   \n",
       "1101   Is having awesome fruits and vegetable juice a...   \n",
       "10672    Jane Austen`s books!,    Pride and Prejudice...   \n",
       "21287  think I`m gonna start writing a proper blog, c...   \n",
       "1674    whooop! you got me on twitter!!  dang our lin...   \n",
       "24079  Dear God please let me wake up before 11:45 AM...   \n",
       "20206   my favorite song is `Im standing here but you...   \n",
       "7795   _lottie Not one of my favourite pastimes  This...   \n",
       "5561   I just put my TV on the Canucks game and they ...   \n",
       "23266  Home from a day of pampering with mom & dinner...   \n",
       "14996   Sounds like the very best sort of work then! ...   \n",
       "3753    all the best for your IB exams Carl. I hope y...   \n",
       "15607  Tomorrow is Mother`s Day! What did you get for...   \n",
       "19588   - Yeah I know they are **** annoying with tha...   \n",
       "18265   thanks for trying   I was hoping Bud Trillin,...   \n",
       "17790  But anywho, I just got in and out of the pool ...   \n",
       "13734   **** **** and blast!  I`m at LMHR tomorrow an...   \n",
       "12665   no I like be able to say it and it be the tru...   \n",
       "16764   Oh yea, my pain went down a little bit from l...   \n",
       "12505  Played with FontStruct http://is.gd/ejE upload...   \n",
       "...                                                  ...   \n",
       "7760   Congratulation`s to phil packer on completing ...   \n",
       "6030   I am up and feeling pretty **** gud! I dont ev...   \n",
       "16241  _hall no  i was gutted when he wasn`t. lmao. i...   \n",
       "19636  junk food and movies in a tshirt and sweats......   \n",
       "25390   fair enough. actually, you dont have to give ...   \n",
       "16387   Hey Steve.   I think you are such an awesome ...   \n",
       "746    am chillaxin after a busy BankHoliday, Hope ev...   \n",
       "10493  Dakota just had a her first bath since being s...   \n",
       "6656   Hmmm, I just realized....I didn`t have any bda...   \n",
       "16444  Loves fatty take away nights... yummy  then co...   \n",
       "14055   happy birthday month!! I only get a day but y...   \n",
       "10278  HAppy Mother`s Day to my Mom...that lady is th...   \n",
       "25599  Wow Justin Timberlake on SNL tonight was hilar...   \n",
       "21224  i bought a Italian horseshoe charm. Dragon! it...   \n",
       "21450  Aw! Tear! I feel special to da family.  Haha t...   \n",
       "27110   You`re cycling tho` that`s good. Healthy eati...   \n",
       "12753   understandable. yah i leave on monday! I`ll b...   \n",
       "2659   Blue Oyster Cult - I Love The Night *that`s wh...   \n",
       "22377   I`d like to put your fruity article on my web...   \n",
       "17630   Hi Dougie I`m your fan from Thailand. I`m Fil...   \n",
       "23467   Yes, we will! We should maybe do it in a DM t...   \n",
       "182     I VOTED!!! do u have a personal myspace? i ke...   \n",
       "20915  OMG Great Day Today Went To A Art Thingy  And ...   \n",
       "1091   Just wanted to say, positivity is doin me good...   \n",
       "12821   You realize you just did  a solid. Better tha...   \n",
       "21412  i love Fly With Me, live chats and don`t like ...   \n",
       "22346  Again.. check out http://www.myspace.com/there...   \n",
       "15463  _club wished I could have been there last nigh...   \n",
       "17770    haha aww hun i bet you are more creative tha...   \n",
       "2082    yaaaaaay i get to see you too   looking forwa...   \n",
       "\n",
       "                                           selected_text  \\\n",
       "17893                                           .perfect   \n",
       "4623                                                 lol   \n",
       "9389                              was AWESOMEEEEEE!!!!!!   \n",
       "20415       most foods I love are generally very healthy   \n",
       "7791                                              a good   \n",
       "17479                                               like   \n",
       "9660                                       serendipity..   \n",
       "15699                                               good   \n",
       "19070                                             lovely   \n",
       "26771          awww  i mish u too ladie whats been good?   \n",
       "7159                                wow-thanks soo much.   \n",
       "1101                                             awesome   \n",
       "10672             ,    Pride and Prejudice & Emma are gr   \n",
       "21287             I`m gonna start writing a proper blog,   \n",
       "1674                                           s growing   \n",
       "24079                                             lol Go   \n",
       "20206                                           favorite   \n",
       "7795                                           favourite   \n",
       "5561                                                yaay   \n",
       "23266                                       pampering wi   \n",
       "14996                                               best   \n",
       "3753                                                hope   \n",
       "15607  Tomorrow is Mother`s Day! What did you get for...   \n",
       "19588  - Yeah I know they are **** annoying with that...   \n",
       "18265  thanks for trying   I was hoping Bud Trillin, ...   \n",
       "17790                                           storming   \n",
       "13734                                             blast!   \n",
       "12665                                               like   \n",
       "16764  Oh yea, my pain went down a little bit from la...   \n",
       "12505                                                top   \n",
       "...                                                  ...   \n",
       "7760                                    Congratulation`s   \n",
       "6030   I am up and feeling pretty **** gud! I dont ev...   \n",
       "16241  hall no  i was gutted when he wasn`t. lmao. i ...   \n",
       "19636  the only way tonight would be better is if I h...   \n",
       "25390  fair enough. actually, you dont have to give m...   \n",
       "16387  I think you are such an awesome actor. I love ...   \n",
       "746    am chillaxin after a busy BankHoliday, Hope ev...   \n",
       "10493                                            Heaven!   \n",
       "6656                                            boo hoo!   \n",
       "16444                                              yummy   \n",
       "14055  happy birthday month!! I only get a day but yo...   \n",
       "10278                                            coolest   \n",
       "25599  Wow Justin Timberlake on SNL tonight was hilar...   \n",
       "21224                                             strong   \n",
       "21450  Aw! Tear! I feel special to da family.  Haha t...   \n",
       "27110  You`re cycling tho` that`s good. Healthy eatin...   \n",
       "12753                                    understandable.   \n",
       "2659                                                Love   \n",
       "22377                                               like   \n",
       "17630                                               `Luv   \n",
       "23467  so we don`t annoy our followers. Thought of th...   \n",
       "182    i <3 you. u helped me thru the hrdest time of ...   \n",
       "20915                                          Great Day   \n",
       "1091   positivity is doin me good! Change it up! Won`...   \n",
       "12821  You realize you just did  a solid. Better than...   \n",
       "21412                                               love   \n",
       "22346                                               rock   \n",
       "15463                                           rocking!   \n",
       "17770                                         e creative   \n",
       "2082                                            yaaaaaay   \n",
       "\n",
       "                                              prediction       jcc  \n",
       "17893                                            perfect  0.000000  \n",
       "4623                                                love  0.000000  \n",
       "9389                                               best!  0.000000  \n",
       "20415                                              lucky  0.000000  \n",
       "7791                                           hopefully  0.000000  \n",
       "17479                                            looking  0.000000  \n",
       "9660   The nocturnal serendipity... Kashmir is an imp...  0.000000  \n",
       "15699                                               yay!  0.000000  \n",
       "19070                                               Hope  0.000000  \n",
       "26771                                               good  0.000000  \n",
       "7159                                              thanks  0.000000  \n",
       "1101                                     vegetable juice  0.000000  \n",
       "10672                                             great!  0.000000  \n",
       "21287                                               good  0.000000  \n",
       "1674    whooop! you got me on twitter!!  dang our lin...  0.000000  \n",
       "24079  Dear God please let me wake up before 11:45 AM...  0.034483  \n",
       "20206  my favorite song is `Im standing here but you ...  0.040000  \n",
       "7795   _lottie Not one of my favourite pastimes  This...  0.040000  \n",
       "5561   I just put my TV on the Canucks game and they ...  0.041667  \n",
       "23266  Home from a day of pampering with mom & dinner...  0.041667  \n",
       "14996  Sounds like the very best sort of work then! J...  0.043478  \n",
       "3753   all the best for your IB exams Carl. I hope yo...  0.045455  \n",
       "15607                                              gift,  0.045455  \n",
       "19588                                           annoying  0.045455  \n",
       "18265                                             thanks  0.045455  \n",
       "17790  But anywho, I just got in and out of the pool ...  0.047619  \n",
       "13734   **** **** and blast!  I`m at LMHR tomorrow an...  0.047619  \n",
       "12665   no I like be able to say it and it be the tru...  0.050000  \n",
       "16764                                               good  0.050000  \n",
       "12505  Played with FontStruct http://is.gd/ejE upload...  0.050000  \n",
       "...                                                  ...       ...  \n",
       "7760   Congratulation`s to phil packer on completing ...  0.066667  \n",
       "6030                                                nice  0.066667  \n",
       "16241                                           obsessed  0.066667  \n",
       "19636                                             better  0.066667  \n",
       "25390                                               fine  0.066667  \n",
       "16387                                            awesome  0.066667  \n",
       "746                                                 Hope  0.066667  \n",
       "10493  Dakota just had a her first bath since being s...  0.071429  \n",
       "6656   Hmmm, I just realized....I didn`t have any bda...  0.071429  \n",
       "16444  Loves fatty take away nights... yummy  then co...  0.071429  \n",
       "14055                                              happy  0.071429  \n",
       "10278  HAppy Mother`s Day to my Mom...that lady is th...  0.071429  \n",
       "25599                                                Wow  0.076923  \n",
       "21224  i bought a Italian horseshoe charm. Dragon! it...  0.076923  \n",
       "21450                                            special  0.076923  \n",
       "27110                                              good.  0.076923  \n",
       "12753   understandable. yah i leave on monday! I`ll b...  0.076923  \n",
       "2659   I Love The Night *that`s when all my friends a...  0.076923  \n",
       "22377  I`d like to put your fruity article on my webs...  0.076923  \n",
       "17630   Hi Dougie I`m your fan from Thailand. I`m Fil...  0.076923  \n",
       "23467                                               Good  0.076923  \n",
       "182                                               hrdest  0.076923  \n",
       "20915  OMG Great Day Today Went To A Art Thingy  And ...  0.080000  \n",
       "1091                                               good!  0.083333  \n",
       "12821                                             Better  0.083333  \n",
       "21412  i love Fly With Me, live chats and don`t like ...  0.083333  \n",
       "22346  Again.. check out http://www.myspace.com/there...  0.083333  \n",
       "15463  Sounds like it was rocking! Can`t wait to see ...  0.083333  \n",
       "17770    haha aww hun i bet you are more creative tha...  0.083333  \n",
       "2082   yaaaaaay i get to see you too   looking forwar...  0.083333  \n",
       "\n",
       "[100 rows x 4 columns]"
      ]
     },
     "execution_count": 226,
     "metadata": {},
     "output_type": "execute_result"
    }
   ],
   "source": [
    "pred_positive_df[200:300]"
   ]
  },
  {
   "cell_type": "code",
   "execution_count": 223,
   "metadata": {},
   "outputs": [],
   "source": [
    "#jaccard('great.','great...')"
   ]
  },
  {
   "cell_type": "code",
   "execution_count": 216,
   "metadata": {},
   "outputs": [],
   "source": [
    "#'great.'.split()"
   ]
  },
  {
   "cell_type": "code",
   "execution_count": null,
   "metadata": {},
   "outputs": [],
   "source": []
  },
  {
   "cell_type": "code",
   "execution_count": null,
   "metadata": {},
   "outputs": [],
   "source": []
  }
 ],
 "metadata": {
  "kernelspec": {
   "display_name": "Python 3",
   "language": "python",
   "name": "python3"
  },
  "language_info": {
   "codemirror_mode": {
    "name": "ipython",
    "version": 3
   },
   "file_extension": ".py",
   "mimetype": "text/x-python",
   "name": "python",
   "nbconvert_exporter": "python",
   "pygments_lexer": "ipython3",
   "version": "3.8.3"
  }
 },
 "nbformat": 4,
 "nbformat_minor": 2
}
